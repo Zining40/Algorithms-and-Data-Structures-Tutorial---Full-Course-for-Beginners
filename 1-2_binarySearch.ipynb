{
 "cells": [
  {
   "cell_type": "code",
   "execution_count": 12,
   "metadata": {},
   "outputs": [],
   "source": [
    "## Could only find the target by Binary Search, not find the index.\n",
    "\n",
    "# def binary_search(list, target):\n",
    "#     while True:\n",
    "#         guess = len(list)//2\n",
    "#         if list[guess] < target:\n",
    "#             list = list[guess:]\n",
    "#         elif list[guess] > target:\n",
    "#             list = list[:guess]\n",
    "#         else:\n",
    "#             return list[guess]"
   ]
  },
  {
   "cell_type": "code",
   "execution_count": 81,
   "metadata": {},
   "outputs": [],
   "source": [
    "def binary_search(list, target):\n",
    "    first = 0\n",
    "    last = len(list) - 1\n",
    "    while first <= last:\n",
    "        midpoint = (first + last) // 2\n",
    "        if list[midpoint] < target:\n",
    "            first = midpoint + 1\n",
    "        elif list[midpoint] > target:\n",
    "            last = midpoint - 1\n",
    "        else:\n",
    "            return midpoint\n",
    "    return None"
   ]
  },
  {
   "cell_type": "code",
   "execution_count": 82,
   "metadata": {},
   "outputs": [],
   "source": [
    "def verify(index):\n",
    "    if index is not None:\n",
    "        print(f\"Target found at index: {index}\")\n",
    "    else:\n",
    "        print(\"Target not found in list!\")"
   ]
  },
  {
   "cell_type": "code",
   "execution_count": 83,
   "metadata": {},
   "outputs": [
    {
     "name": "stdout",
     "output_type": "stream",
     "text": [
      "[1, 2, 3, 4, 5, 6, 7, 8, 9, 10, 11, 12, 13, 14, 15, 16, 17, 18, 19, 20]\n"
     ]
    }
   ],
   "source": [
    "test_list = [i for i in range(1, 21)]\n",
    "print(test_list)"
   ]
  },
  {
   "cell_type": "code",
   "execution_count": 85,
   "metadata": {},
   "outputs": [
    {
     "name": "stdout",
     "output_type": "stream",
     "text": [
      "Target not found in list!\n"
     ]
    }
   ],
   "source": [
    "verify(binary_search(test_list, 21))"
   ]
  }
 ],
 "metadata": {
  "kernelspec": {
   "display_name": "base",
   "language": "python",
   "name": "python3"
  },
  "language_info": {
   "codemirror_mode": {
    "name": "ipython",
    "version": 3
   },
   "file_extension": ".py",
   "mimetype": "text/x-python",
   "name": "python",
   "nbconvert_exporter": "python",
   "pygments_lexer": "ipython3",
   "version": "3.8.8"
  }
 },
 "nbformat": 4,
 "nbformat_minor": 2
}
