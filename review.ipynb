{
 "cells": [
  {
   "cell_type": "markdown",
   "metadata": {},
   "source": [
    "### Merge Sort"
   ]
  },
  {
   "cell_type": "code",
   "execution_count": 6,
   "metadata": {},
   "outputs": [],
   "source": [
    "def merge(list):\n",
    "    if len(list) <= 1:\n",
    "        return list\n",
    "    left_half, right_half = split(list)\n",
    "    left = merge(left_half)\n",
    "    right = merge(right_half)\n",
    "    return merge_sort(left, right)\n",
    "\n",
    "def split(list):\n",
    "    mid = len(list)//2\n",
    "    left = list[:mid]\n",
    "    right = list[mid:]\n",
    "    return left, right"
   ]
  },
  {
   "cell_type": "code",
   "execution_count": 16,
   "metadata": {},
   "outputs": [],
   "source": [
    "def merge_sort(list):\n",
    "    print('front list', list)\n",
    "    if len(list) <= 1:\n",
    "        return list\n",
    "    left_half, right_half = split(list)\n",
    "    left = merge_sort(left_half)\n",
    "    right = merge_sort(right_half)\n",
    "    print('back list', list)\n",
    "    print('left, right:', left, right)\n",
    "    print('left_half, right_half', left_half, right_half)\n",
    "    # return left, right\n",
    "    return merge(left, right)\n",
    "\n",
    "def split(list):\n",
    "    mid = len(list)//2\n",
    "    left = list[:mid]\n",
    "    right = list[mid:]\n",
    "    return left, right\n",
    "\n",
    "def merge(left, right):\n",
    "    l = []\n",
    "    i = 0\n",
    "    j = 0\n",
    "    while i < len(left) and j < len(right):\n",
    "        if left[i] < right[j]:\n",
    "            l.append(left[i])\n",
    "            i += 1\n",
    "        else:\n",
    "            l.append(right[j])\n",
    "            j += 1\n",
    "    while i < len(left):\n",
    "        l.append(left[i])\n",
    "        i+=1\n",
    "    while j < len(right):\n",
    "        l.append(right[j])\n",
    "        j+=1\n",
    "    return l"
   ]
  },
  {
   "cell_type": "code",
   "execution_count": 17,
   "metadata": {},
   "outputs": [
    {
     "name": "stdout",
     "output_type": "stream",
     "text": [
      "front list [5, 3, 7, 8, 9, 6]\n",
      "front list [5, 3, 7]\n",
      "front list [5]\n",
      "front list [3, 7]\n",
      "front list [3]\n",
      "front list [7]\n",
      "back list [3, 7]\n",
      "left, right: [3] [7]\n",
      "left_half, right_half [3] [7]\n",
      "back list [5, 3, 7]\n",
      "left, right: [5] [3, 7]\n",
      "left_half, right_half [5] [3, 7]\n",
      "front list [8, 9, 6]\n",
      "front list [8]\n",
      "front list [9, 6]\n",
      "front list [9]\n",
      "front list [6]\n",
      "back list [9, 6]\n",
      "left, right: [9] [6]\n",
      "left_half, right_half [9] [6]\n",
      "back list [8, 9, 6]\n",
      "left, right: [8] [6, 9]\n",
      "left_half, right_half [8] [9, 6]\n",
      "back list [5, 3, 7, 8, 9, 6]\n",
      "left, right: [3, 5, 7] [6, 8, 9]\n",
      "left_half, right_half [5, 3, 7] [8, 9, 6]\n",
      "[3, 5, 6, 7, 8, 9]\n"
     ]
    }
   ],
   "source": [
    "l = [5, 3, 7, 8, 9, 6]\n",
    "print(merge_sort(l))"
   ]
  },
  {
   "cell_type": "code",
   "execution_count": null,
   "metadata": {},
   "outputs": [],
   "source": []
  },
  {
   "cell_type": "code",
   "execution_count": 323,
   "metadata": {},
   "outputs": [
    {
     "data": {
      "text/plain": [
       "6"
      ]
     },
     "execution_count": 323,
     "metadata": {},
     "output_type": "execute_result"
    }
   ],
   "source": [
    "12//2"
   ]
  },
  {
   "cell_type": "markdown",
   "metadata": {},
   "source": [
    "### Linked List"
   ]
  },
  {
   "cell_type": "code",
   "execution_count": 268,
   "metadata": {},
   "outputs": [],
   "source": [
    "class Node:\n",
    "    data = None\n",
    "    next_node = None\n",
    "\n",
    "    def __init__(self, data):\n",
    "        self.data = data\n",
    "\n",
    "    def __repr__(self):\n",
    "        return f\"<Node data : {self.data}>\"\n",
    "\n",
    "class Linked_list():\n",
    "    def __init__(self):\n",
    "        self.head = None\n",
    "    \n",
    "    def __repr__(self):\n",
    "        nodes = []\n",
    "        current = self.head\n",
    "        while current:\n",
    "            if current == self.head:\n",
    "                nodes.append(f\"[head:{current.data}]\")\n",
    "            elif current.next_node == None:\n",
    "                nodes.append(f\"[tail:{current.data}]\")\n",
    "            else:\n",
    "                nodes.append(f\"[{current.data}]\")\n",
    "            current = current.next_node\n",
    "        return \"->\".join(nodes)\n",
    "\n",
    "    def add(self, data):\n",
    "        new_node = Node(data)\n",
    "        new_node.next_node = self.head\n",
    "        self.head = new_node\n",
    "    \n",
    "    def size(self):\n",
    "        current = self.head\n",
    "        count = 0\n",
    "        while current:\n",
    "            count += 1\n",
    "            current = current.next_node\n",
    "        return count\n",
    "\n",
    "    def search(self, key):\n",
    "        current = self.head\n",
    "        while current:\n",
    "            if current.data == key:\n",
    "                return current\n",
    "            else:\n",
    "                current = current.next_node\n",
    "\n",
    "    def insert(self, data, index):\n",
    "        if index == 0:\n",
    "            self.add(data)\n",
    "        if index > 0:\n",
    "            position = index\n",
    "            new_node = Node(data)\n",
    "            current = self.head\n",
    "            while position > 1:\n",
    "                current = current.next_node\n",
    "                position -= 1\n",
    "            new_node.next_node = current.next_node\n",
    "            current.next_node = new_node\n",
    "\n",
    "    def remove(self, key):\n",
    "        current = self.head\n",
    "        previous = None\n",
    "        found = False\n",
    "        while current and not found:\n",
    "            if key == self.head.data:\n",
    "                found = True\n",
    "                self.head = current.next_node\n",
    "            elif key == current.data:\n",
    "                found = True\n",
    "                previous.next_node = current.next_node\n",
    "            else:\n",
    "                previous = current\n",
    "                current = current.next_node\n",
    "        return current"
   ]
  },
  {
   "cell_type": "code",
   "execution_count": 269,
   "metadata": {},
   "outputs": [
    {
     "data": {
      "text/plain": []
     },
     "execution_count": 269,
     "metadata": {},
     "output_type": "execute_result"
    }
   ],
   "source": [
    "l1 = Linked_list()\n",
    "l1"
   ]
  },
  {
   "cell_type": "code",
   "execution_count": 270,
   "metadata": {},
   "outputs": [
    {
     "data": {
      "text/plain": [
       "[head:5]->[8]->[6]->[4]->[tail:2]"
      ]
     },
     "execution_count": 270,
     "metadata": {},
     "output_type": "execute_result"
    }
   ],
   "source": [
    "l1.add(2)\n",
    "l1.add(4)\n",
    "l1.add(6)\n",
    "l1.add(8)\n",
    "l1.add(5)\n",
    "l1"
   ]
  },
  {
   "cell_type": "code",
   "execution_count": 271,
   "metadata": {},
   "outputs": [
    {
     "data": {
      "text/plain": [
       "5"
      ]
     },
     "execution_count": 271,
     "metadata": {},
     "output_type": "execute_result"
    }
   ],
   "source": [
    "l1.head.data"
   ]
  },
  {
   "cell_type": "code",
   "execution_count": 272,
   "metadata": {},
   "outputs": [
    {
     "data": {
      "text/plain": [
       "<Node data : 4>"
      ]
     },
     "execution_count": 272,
     "metadata": {},
     "output_type": "execute_result"
    }
   ],
   "source": [
    "l1.search(4)"
   ]
  },
  {
   "cell_type": "code",
   "execution_count": 286,
   "metadata": {},
   "outputs": [
    {
     "data": {
      "text/plain": [
       "[head:8]->[6]->[5]->[5]->[5]->[5]->[5]->[5]->[5]->[5]->[5]->[4]->[tail:2]"
      ]
     },
     "execution_count": 286,
     "metadata": {},
     "output_type": "execute_result"
    }
   ],
   "source": [
    "l1.insert(5, 2)\n",
    "l1"
   ]
  },
  {
   "cell_type": "code",
   "execution_count": 295,
   "metadata": {},
   "outputs": [
    {
     "data": {
      "text/plain": [
       "[head:8]->[6]->[4]->[tail:2]"
      ]
     },
     "execution_count": 295,
     "metadata": {},
     "output_type": "execute_result"
    }
   ],
   "source": [
    "l1.remove(5)\n",
    "l1"
   ]
  },
  {
   "cell_type": "code",
   "execution_count": 275,
   "metadata": {},
   "outputs": [
    {
     "data": {
      "text/plain": [
       "[head:8]->[5]->[6]->[4]->[tail:2]"
      ]
     },
     "execution_count": 275,
     "metadata": {},
     "output_type": "execute_result"
    }
   ],
   "source": [
    "l1"
   ]
  },
  {
   "cell_type": "code",
   "execution_count": null,
   "metadata": {},
   "outputs": [],
   "source": []
  }
 ],
 "metadata": {
  "kernelspec": {
   "display_name": "base",
   "language": "python",
   "name": "python3"
  },
  "language_info": {
   "codemirror_mode": {
    "name": "ipython",
    "version": 3
   },
   "file_extension": ".py",
   "mimetype": "text/x-python",
   "name": "python",
   "nbconvert_exporter": "python",
   "pygments_lexer": "ipython3",
   "version": "3.8.8"
  }
 },
 "nbformat": 4,
 "nbformat_minor": 2
}
