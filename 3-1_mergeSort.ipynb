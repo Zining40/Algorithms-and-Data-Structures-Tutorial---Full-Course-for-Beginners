{
 "cells": [
  {
   "cell_type": "code",
   "execution_count": 4,
   "metadata": {},
   "outputs": [],
   "source": [
    "def merge_sort(list):\n",
    "    if len(list) <= 1:\n",
    "        return list\n",
    "    left_half, right_half = split(list)\n",
    "    left = merge_sort(left_half)\n",
    "    right = merge_sort(right_half)\n",
    "    # return left, right\n",
    "    return merge(left, right)\n",
    "\n",
    "def split(list):\n",
    "    mid = len(list)//2\n",
    "    left = list[:mid]\n",
    "    right = list[mid:]\n",
    "    return left, right\n",
    "\n",
    "def merge(left, right):\n",
    "    l = []\n",
    "    i = 0\n",
    "    j = 0\n",
    "    while i < len(left) and j < len(right):\n",
    "        if left[i] < right[j]:\n",
    "            l.append(left[i])\n",
    "            i += 1\n",
    "        else:\n",
    "            l.append(right[j])\n",
    "            j += 1\n",
    "    while i < len(left):\n",
    "        l.append(left[i])\n",
    "        i+=1\n",
    "    while j < len(right):\n",
    "        l.append(right[j])\n",
    "        j+=1\n",
    "    return l"
   ]
  },
  {
   "cell_type": "code",
   "execution_count": 5,
   "metadata": {},
   "outputs": [
    {
     "name": "stdout",
     "output_type": "stream",
     "text": [
      "[3, 5, 6, 7, 8, 9]\n"
     ]
    }
   ],
   "source": [
    "l = [5, 3, 7, 8, 9, 6]\n",
    "print(merge_sort(l))"
   ]
  }
 ],
 "metadata": {
  "kernelspec": {
   "display_name": "base",
   "language": "python",
   "name": "python3"
  },
  "language_info": {
   "codemirror_mode": {
    "name": "ipython",
    "version": 3
   },
   "file_extension": ".py",
   "mimetype": "text/x-python",
   "name": "python",
   "nbconvert_exporter": "python",
   "pygments_lexer": "ipython3",
   "version": "3.8.8"
  }
 },
 "nbformat": 4,
 "nbformat_minor": 2
}
